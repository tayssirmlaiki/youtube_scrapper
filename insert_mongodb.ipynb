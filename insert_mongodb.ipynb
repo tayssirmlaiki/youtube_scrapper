{
 "cells": [
  {
   "cell_type": "code",
   "execution_count": 1,
   "id": "6032cd79",
   "metadata": {},
   "outputs": [
    {
     "name": "stdout",
     "output_type": "stream",
     "text": [
      "Collecting package metadata (current_repodata.json): ...working... done\n",
      "Solving environment: ...working... done\n",
      "\n",
      "# All requested packages already installed.\n",
      "\n",
      "\n",
      "Note: you may need to restart the kernel to use updated packages.\n"
     ]
    }
   ],
   "source": [
    "conda install pymongo"
   ]
  },
  {
   "cell_type": "code",
   "execution_count": 2,
   "id": "ca0d03ce",
   "metadata": {},
   "outputs": [],
   "source": [
    "import pymongo\n",
    "import pandas as pd\n",
    "import json"
   ]
  },
  {
   "cell_type": "code",
   "execution_count": 3,
   "id": "6374c0e6",
   "metadata": {},
   "outputs": [],
   "source": [
    "client = pymongo.MongoClient(\"mongodb://localhost:27017\")"
   ]
  },
  {
   "cell_type": "code",
   "execution_count": 5,
   "id": "a456a095",
   "metadata": {},
   "outputs": [],
   "source": [
    "df = pd.read_csv(\"my_chaine.csv\")"
   ]
  },
  {
   "cell_type": "code",
   "execution_count": 6,
   "id": "82fcf3f2",
   "metadata": {},
   "outputs": [
    {
     "data": {
      "text/html": [
       "<div>\n",
       "<style scoped>\n",
       "    .dataframe tbody tr th:only-of-type {\n",
       "        vertical-align: middle;\n",
       "    }\n",
       "\n",
       "    .dataframe tbody tr th {\n",
       "        vertical-align: top;\n",
       "    }\n",
       "\n",
       "    .dataframe thead th {\n",
       "        text-align: right;\n",
       "    }\n",
       "</style>\n",
       "<table border=\"1\" class=\"dataframe\">\n",
       "  <thead>\n",
       "    <tr style=\"text-align: right;\">\n",
       "      <th></th>\n",
       "      <th>Unnamed: 0</th>\n",
       "      <th>titre</th>\n",
       "      <th>vues</th>\n",
       "      <th>date</th>\n",
       "    </tr>\n",
       "  </thead>\n",
       "  <tbody>\n",
       "    <tr>\n",
       "      <th>0</th>\n",
       "      <td>0</td>\n",
       "      <td>Tunisiens Résidant à l’Étranger | « Canaux de ...</td>\n",
       "      <td>8,3 k vues</td>\n",
       "      <td>il y a 2 mois</td>\n",
       "    </tr>\n",
       "    <tr>\n",
       "      <th>1</th>\n",
       "      <td>1</td>\n",
       "      <td>Tunisiens Résidant à l’Étranger | « Comptes ba...</td>\n",
       "      <td>186 vues</td>\n",
       "      <td>il y a 2 mois</td>\n",
       "    </tr>\n",
       "    <tr>\n",
       "      <th>2</th>\n",
       "      <td>2</td>\n",
       "      <td>Tunisiens Résidant à l’Étranger | Service « E-...</td>\n",
       "      <td>101 vues</td>\n",
       "      <td>il y a 2 mois</td>\n",
       "    </tr>\n",
       "    <tr>\n",
       "      <th>3</th>\n",
       "      <td>3</td>\n",
       "      <td>NaN</td>\n",
       "      <td>NaN</td>\n",
       "      <td>NaN</td>\n",
       "    </tr>\n",
       "    <tr>\n",
       "      <th>4</th>\n",
       "      <td>4</td>\n",
       "      <td>NaN</td>\n",
       "      <td>NaN</td>\n",
       "      <td>NaN</td>\n",
       "    </tr>\n",
       "  </tbody>\n",
       "</table>\n",
       "</div>"
      ],
      "text/plain": [
       "   Unnamed: 0                                              titre        vues  \\\n",
       "0           0  Tunisiens Résidant à l’Étranger | « Canaux de ...  8,3 k vues   \n",
       "1           1  Tunisiens Résidant à l’Étranger | « Comptes ba...    186 vues   \n",
       "2           2  Tunisiens Résidant à l’Étranger | Service « E-...    101 vues   \n",
       "3           3                                                NaN         NaN   \n",
       "4           4                                                NaN         NaN   \n",
       "\n",
       "            date  \n",
       "0  il y a 2 mois  \n",
       "1  il y a 2 mois  \n",
       "2  il y a 2 mois  \n",
       "3            NaN  \n",
       "4            NaN  "
      ]
     },
     "execution_count": 6,
     "metadata": {},
     "output_type": "execute_result"
    }
   ],
   "source": [
    "df.head()"
   ]
  },
  {
   "cell_type": "code",
   "execution_count": 7,
   "id": "83d84fbc",
   "metadata": {},
   "outputs": [
    {
     "data": {
      "text/html": [
       "<div>\n",
       "<style scoped>\n",
       "    .dataframe tbody tr th:only-of-type {\n",
       "        vertical-align: middle;\n",
       "    }\n",
       "\n",
       "    .dataframe tbody tr th {\n",
       "        vertical-align: top;\n",
       "    }\n",
       "\n",
       "    .dataframe thead th {\n",
       "        text-align: right;\n",
       "    }\n",
       "</style>\n",
       "<table border=\"1\" class=\"dataframe\">\n",
       "  <thead>\n",
       "    <tr style=\"text-align: right;\">\n",
       "      <th></th>\n",
       "      <th>Unnamed: 0</th>\n",
       "      <th>titre</th>\n",
       "      <th>vues</th>\n",
       "      <th>date</th>\n",
       "    </tr>\n",
       "  </thead>\n",
       "  <tbody>\n",
       "    <tr>\n",
       "      <th>7</th>\n",
       "      <td>7</td>\n",
       "      <td>Attijari bank fête la rentrée scolaire aux éco...</td>\n",
       "      <td>33 k vues</td>\n",
       "      <td>il y a 3 ans</td>\n",
       "    </tr>\n",
       "    <tr>\n",
       "      <th>8</th>\n",
       "      <td>8</td>\n",
       "      <td>Attijari bank met à votre disposition des fina...</td>\n",
       "      <td>31 k vues</td>\n",
       "      <td>il y a 3 ans</td>\n",
       "    </tr>\n",
       "    <tr>\n",
       "      <th>9</th>\n",
       "      <td>9</td>\n",
       "      <td>NaN</td>\n",
       "      <td>NaN</td>\n",
       "      <td>NaN</td>\n",
       "    </tr>\n",
       "    <tr>\n",
       "      <th>10</th>\n",
       "      <td>10</td>\n",
       "      <td>NaN</td>\n",
       "      <td>NaN</td>\n",
       "      <td>NaN</td>\n",
       "    </tr>\n",
       "    <tr>\n",
       "      <th>11</th>\n",
       "      <td>11</td>\n",
       "      <td>NaN</td>\n",
       "      <td>NaN</td>\n",
       "      <td>NaN</td>\n",
       "    </tr>\n",
       "  </tbody>\n",
       "</table>\n",
       "</div>"
      ],
      "text/plain": [
       "    Unnamed: 0                                              titre       vues  \\\n",
       "7            7  Attijari bank fête la rentrée scolaire aux éco...  33 k vues   \n",
       "8            8  Attijari bank met à votre disposition des fina...  31 k vues   \n",
       "9            9                                                NaN        NaN   \n",
       "10          10                                                NaN        NaN   \n",
       "11          11                                                NaN        NaN   \n",
       "\n",
       "            date  \n",
       "7   il y a 3 ans  \n",
       "8   il y a 3 ans  \n",
       "9            NaN  \n",
       "10           NaN  \n",
       "11           NaN  "
      ]
     },
     "execution_count": 7,
     "metadata": {},
     "output_type": "execute_result"
    }
   ],
   "source": [
    "df.tail()"
   ]
  },
  {
   "cell_type": "code",
   "execution_count": 8,
   "id": "0170baee",
   "metadata": {},
   "outputs": [
    {
     "data": {
      "text/plain": [
       "(12, 4)"
      ]
     },
     "execution_count": 8,
     "metadata": {},
     "output_type": "execute_result"
    }
   ],
   "source": [
    "df.shape"
   ]
  },
  {
   "cell_type": "code",
   "execution_count": 9,
   "id": "ff88521b",
   "metadata": {},
   "outputs": [],
   "source": [
    "data = df.to_dict(orient = \"records\")"
   ]
  },
  {
   "cell_type": "code",
   "execution_count": 10,
   "id": "be4d3e09",
   "metadata": {},
   "outputs": [
    {
     "data": {
      "text/plain": [
       "[{'Unnamed: 0': 0,\n",
       "  'titre': 'Tunisiens Résidant à l’Étranger | « Canaux de Transfert » de Attijari bank',\n",
       "  'vues': '8,3 k vues',\n",
       "  'date': 'il y a 2 mois'},\n",
       " {'Unnamed: 0': 1,\n",
       "  'titre': 'Tunisiens Résidant à l’Étranger | « Comptes bancaires » de Attijari bank',\n",
       "  'vues': '186 vues',\n",
       "  'date': 'il y a 2 mois'},\n",
       " {'Unnamed: 0': 2,\n",
       "  'titre': 'Tunisiens Résidant à l’Étranger | Service « E-Transfert » de Attijari bank',\n",
       "  'vues': '101 vues',\n",
       "  'date': 'il y a 2 mois'},\n",
       " {'Unnamed: 0': 3, 'titre': nan, 'vues': nan, 'date': nan},\n",
       " {'Unnamed: 0': 4, 'titre': nan, 'vues': nan, 'date': nan},\n",
       " {'Unnamed: 0': 5, 'titre': nan, 'vues': nan, 'date': nan},\n",
       " {'Unnamed: 0': 6,\n",
       "  'titre': 'Attijari bank et Tunisair signent un contrat de financement de la rénovation des réacteurs d’avions',\n",
       "  'vues': '35 k vues',\n",
       "  'date': 'il y a 4 ans'},\n",
       " {'Unnamed: 0': 7,\n",
       "  'titre': 'Attijari bank fête la rentrée scolaire aux écoles primaires Awled Gacem et Jbel Eddis à Nefza',\n",
       "  'vues': '33 k vues',\n",
       "  'date': 'il y a 3 ans'},\n",
       " {'Unnamed: 0': 8,\n",
       "  'titre': 'Attijari bank met à votre disposition des financements d’une valeur de 150 millions de dinars!',\n",
       "  'vues': '31 k vues',\n",
       "  'date': 'il y a 3 ans'},\n",
       " {'Unnamed: 0': 9, 'titre': nan, 'vues': nan, 'date': nan},\n",
       " {'Unnamed: 0': 10, 'titre': nan, 'vues': nan, 'date': nan},\n",
       " {'Unnamed: 0': 11, 'titre': nan, 'vues': nan, 'date': nan}]"
      ]
     },
     "execution_count": 10,
     "metadata": {},
     "output_type": "execute_result"
    }
   ],
   "source": [
    "data"
   ]
  },
  {
   "cell_type": "code",
   "execution_count": 11,
   "id": "655ce229",
   "metadata": {},
   "outputs": [],
   "source": [
    "db = client[\"WebScraping\"]"
   ]
  },
  {
   "cell_type": "code",
   "execution_count": 12,
   "id": "16862a3a",
   "metadata": {},
   "outputs": [
    {
     "name": "stdout",
     "output_type": "stream",
     "text": [
      "Database(MongoClient(host=['localhost:27017'], document_class=dict, tz_aware=False, connect=True), 'WebScraping')\n"
     ]
    }
   ],
   "source": [
    "print(db)"
   ]
  },
  {
   "cell_type": "code",
   "execution_count": 13,
   "id": "25a2e18e",
   "metadata": {},
   "outputs": [
    {
     "data": {
      "text/plain": [
       "<pymongo.results.InsertManyResult at 0x19b45eeaec0>"
      ]
     },
     "execution_count": 13,
     "metadata": {},
     "output_type": "execute_result"
    }
   ],
   "source": [
    "db.youtub.insert_many(data)"
   ]
  },
  {
   "cell_type": "code",
   "execution_count": null,
   "id": "164bccf7",
   "metadata": {},
   "outputs": [],
   "source": []
  }
 ],
 "metadata": {
  "kernelspec": {
   "display_name": "Python 3",
   "language": "python",
   "name": "python3"
  },
  "language_info": {
   "codemirror_mode": {
    "name": "ipython",
    "version": 3
   },
   "file_extension": ".py",
   "mimetype": "text/x-python",
   "name": "python",
   "nbconvert_exporter": "python",
   "pygments_lexer": "ipython3",
   "version": "3.8.8"
  }
 },
 "nbformat": 4,
 "nbformat_minor": 5
}
