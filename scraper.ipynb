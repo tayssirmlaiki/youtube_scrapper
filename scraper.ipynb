{
 "cells": [
  {
   "cell_type": "code",
   "execution_count": 2,
   "metadata": {},
   "outputs": [],
   "source": [
    "from selenium import webdriver\n",
    "import pandas as pd\n",
    "options=webdriver.ChromeOptions()\n",
    "options.add_argument('-headless')\n",
    "options.add_argument('-no-sandbox')\n",
    "options.add_argument('-disable-dev-shm-usage')"
   ]
  },
  {
   "cell_type": "code",
   "execution_count": 3,
   "metadata": {},
   "outputs": [],
   "source": [
    "driver=webdriver.Chrome('C:/Users/webscraping/chromedriver.exe',options=options)\n",
    "driver.get('https://www.youtube.com/channel/UCZThe4M-bxR0QfPqipwBA2A')"
   ]
  },
  {
   "cell_type": "code",
   "execution_count": 4,
   "metadata": {
    "scrolled": true
   },
   "outputs": [
    {
     "data": {
      "text/plain": [
       "[{'titre': 'Tunisiens Résidant à l’Étranger | « Canaux de Transfert » de Attijari bank',\n",
       "  'vues': '8,3 k vues',\n",
       "  'date': 'il y a 2 mois'},\n",
       " {'titre': 'Tunisiens Résidant à l’Étranger | « Comptes bancaires » de Attijari bank',\n",
       "  'vues': '186 vues',\n",
       "  'date': 'il y a 2 mois'},\n",
       " {'titre': 'Tunisiens Résidant à l’Étranger | Service « E-Transfert » de Attijari bank',\n",
       "  'vues': '101 vues',\n",
       "  'date': 'il y a 2 mois'},\n",
       " {'titre': '', 'vues': '', 'date': ''},\n",
       " {'titre': '', 'vues': '', 'date': ''},\n",
       " {'titre': '', 'vues': '', 'date': ''},\n",
       " {'titre': 'Attijari bank et Tunisair signent un contrat de financement de la rénovation des réacteurs d’avions',\n",
       "  'vues': '35 k vues',\n",
       "  'date': 'il y a 4 ans'},\n",
       " {'titre': 'Attijari bank fête la rentrée scolaire aux écoles primaires Awled Gacem et Jbel Eddis à Nefza',\n",
       "  'vues': '33 k vues',\n",
       "  'date': 'il y a 3 ans'},\n",
       " {'titre': 'Attijari bank met à votre disposition des financements d’une valeur de 150 millions de dinars!',\n",
       "  'vues': '31 k vues',\n",
       "  'date': 'il y a 3 ans'},\n",
       " {'titre': '', 'vues': '', 'date': ''},\n",
       " {'titre': '', 'vues': '', 'date': ''},\n",
       " {'titre': '', 'vues': '', 'date': ''}]"
      ]
     },
     "execution_count": 4,
     "metadata": {},
     "output_type": "execute_result"
    }
   ],
   "source": [
    "chaine_titre=driver.find_elements_by_xpath('//*[@id=\"video-title\"]')\n",
    "chaine_vue=driver.find_elements_by_xpath('//*[@id=\"metadata-line\"]/span[1]')\n",
    "chaine_date=driver.find_elements_by_xpath('//*[@id=\"metadata-line\"]/span[2]')\n",
    "videos=[]\n",
    "for i in range(len(chaine_titre)):\n",
    "    video_info={}\n",
    "    video_info['titre']= chaine_titre[i].text\n",
    "    video_info['vues']= chaine_vue[i].text\n",
    "    video_info['date']= chaine_date[i].text\n",
    "    videos.append(video_info)\n",
    "videos"
   ]
  },
  {
   "cell_type": "code",
   "execution_count": 5,
   "metadata": {},
   "outputs": [
    {
     "data": {
      "text/html": [
       "<div>\n",
       "<style scoped>\n",
       "    .dataframe tbody tr th:only-of-type {\n",
       "        vertical-align: middle;\n",
       "    }\n",
       "\n",
       "    .dataframe tbody tr th {\n",
       "        vertical-align: top;\n",
       "    }\n",
       "\n",
       "    .dataframe thead th {\n",
       "        text-align: right;\n",
       "    }\n",
       "</style>\n",
       "<table border=\"1\" class=\"dataframe\">\n",
       "  <thead>\n",
       "    <tr style=\"text-align: right;\">\n",
       "      <th></th>\n",
       "      <th>titre</th>\n",
       "      <th>vues</th>\n",
       "      <th>date</th>\n",
       "    </tr>\n",
       "  </thead>\n",
       "  <tbody>\n",
       "    <tr>\n",
       "      <th>0</th>\n",
       "      <td>Tunisiens Résidant à l’Étranger | « Canaux de ...</td>\n",
       "      <td>8,3 k vues</td>\n",
       "      <td>il y a 2 mois</td>\n",
       "    </tr>\n",
       "    <tr>\n",
       "      <th>1</th>\n",
       "      <td>Tunisiens Résidant à l’Étranger | « Comptes ba...</td>\n",
       "      <td>186 vues</td>\n",
       "      <td>il y a 2 mois</td>\n",
       "    </tr>\n",
       "    <tr>\n",
       "      <th>2</th>\n",
       "      <td>Tunisiens Résidant à l’Étranger | Service « E-...</td>\n",
       "      <td>101 vues</td>\n",
       "      <td>il y a 2 mois</td>\n",
       "    </tr>\n",
       "    <tr>\n",
       "      <th>3</th>\n",
       "      <td></td>\n",
       "      <td></td>\n",
       "      <td></td>\n",
       "    </tr>\n",
       "    <tr>\n",
       "      <th>4</th>\n",
       "      <td></td>\n",
       "      <td></td>\n",
       "      <td></td>\n",
       "    </tr>\n",
       "    <tr>\n",
       "      <th>5</th>\n",
       "      <td></td>\n",
       "      <td></td>\n",
       "      <td></td>\n",
       "    </tr>\n",
       "    <tr>\n",
       "      <th>6</th>\n",
       "      <td>Attijari bank et Tunisair signent un contrat d...</td>\n",
       "      <td>35 k vues</td>\n",
       "      <td>il y a 4 ans</td>\n",
       "    </tr>\n",
       "    <tr>\n",
       "      <th>7</th>\n",
       "      <td>Attijari bank fête la rentrée scolaire aux éco...</td>\n",
       "      <td>33 k vues</td>\n",
       "      <td>il y a 3 ans</td>\n",
       "    </tr>\n",
       "    <tr>\n",
       "      <th>8</th>\n",
       "      <td>Attijari bank met à votre disposition des fina...</td>\n",
       "      <td>31 k vues</td>\n",
       "      <td>il y a 3 ans</td>\n",
       "    </tr>\n",
       "    <tr>\n",
       "      <th>9</th>\n",
       "      <td></td>\n",
       "      <td></td>\n",
       "      <td></td>\n",
       "    </tr>\n",
       "    <tr>\n",
       "      <th>10</th>\n",
       "      <td></td>\n",
       "      <td></td>\n",
       "      <td></td>\n",
       "    </tr>\n",
       "    <tr>\n",
       "      <th>11</th>\n",
       "      <td></td>\n",
       "      <td></td>\n",
       "      <td></td>\n",
       "    </tr>\n",
       "  </tbody>\n",
       "</table>\n",
       "</div>"
      ],
      "text/plain": [
       "                                                titre        vues  \\\n",
       "0   Tunisiens Résidant à l’Étranger | « Canaux de ...  8,3 k vues   \n",
       "1   Tunisiens Résidant à l’Étranger | « Comptes ba...    186 vues   \n",
       "2   Tunisiens Résidant à l’Étranger | Service « E-...    101 vues   \n",
       "3                                                                   \n",
       "4                                                                   \n",
       "5                                                                   \n",
       "6   Attijari bank et Tunisair signent un contrat d...   35 k vues   \n",
       "7   Attijari bank fête la rentrée scolaire aux éco...   33 k vues   \n",
       "8   Attijari bank met à votre disposition des fina...   31 k vues   \n",
       "9                                                                   \n",
       "10                                                                  \n",
       "11                                                                  \n",
       "\n",
       "             date  \n",
       "0   il y a 2 mois  \n",
       "1   il y a 2 mois  \n",
       "2   il y a 2 mois  \n",
       "3                  \n",
       "4                  \n",
       "5                  \n",
       "6    il y a 4 ans  \n",
       "7    il y a 3 ans  \n",
       "8    il y a 3 ans  \n",
       "9                  \n",
       "10                 \n",
       "11                 "
      ]
     },
     "execution_count": 5,
     "metadata": {},
     "output_type": "execute_result"
    }
   ],
   "source": [
    "df=pd.DataFrame(videos,columns=['titre','vues','date'])\n",
    "df"
   ]
  },
  {
   "cell_type": "code",
   "execution_count": 6,
   "metadata": {},
   "outputs": [],
   "source": [
    "df.to_csv('my_chaine.csv')"
   ]
  },
  {
   "cell_type": "code",
   "execution_count": null,
   "metadata": {},
   "outputs": [],
   "source": []
  }
 ],
 "metadata": {
  "kernelspec": {
   "display_name": "Python 3",
   "language": "python",
   "name": "python3"
  },
  "language_info": {
   "codemirror_mode": {
    "name": "ipython",
    "version": 3
   },
   "file_extension": ".py",
   "mimetype": "text/x-python",
   "name": "python",
   "nbconvert_exporter": "python",
   "pygments_lexer": "ipython3",
   "version": "3.8.8"
  }
 },
 "nbformat": 4,
 "nbformat_minor": 2
}
